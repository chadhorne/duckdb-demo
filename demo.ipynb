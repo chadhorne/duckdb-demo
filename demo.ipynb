{
 "cells": [
  {
   "cell_type": "markdown",
   "metadata": {},
   "source": [
    "# DuckDB Python API Demo"
   ]
  },
  {
   "cell_type": "markdown",
   "metadata": {},
   "source": [
    "A quick demo of the [DuckDB Python API](https://duckdb.org/docs/api/python/overview). A lot of this code is taken from the documentation."
   ]
  },
  {
   "cell_type": "markdown",
   "metadata": {},
   "source": [
    "## Getting Started\n",
    "\n",
    "Follow these steps to set up the Python environment:\n",
    "\n",
    "1. Create a Python virtual environment by typing `py -m venv .venv`.\n",
    "\n",
    "2. Activate the environment by typing `.\\.venv\\Scripts\\Activate.ps1`.\n",
    "\n",
    "3. Install the dependencies by running `pip install -r .\\requirements.txt`\n",
    "\n",
    "If there were no errors, you should be able to run the code cells below. Remember to use the local Python interpreter (`.venv`) that you just created.\n",
    "\n",
    "If you did run into errors, check the [DuckDB Documentation](https://duckdb.org/docs/installation/index?version=latest&environment=cli&installer=binary&platform=win) to troubleshoot."
   ]
  },
  {
   "cell_type": "code",
   "execution_count": 2,
   "metadata": {},
   "outputs": [
    {
     "name": "stdout",
     "output_type": "stream",
     "text": [
      "┌───────┐\n",
      "│  42   │\n",
      "│ int32 │\n",
      "├───────┤\n",
      "│    42 │\n",
      "└───────┘\n",
      "\n"
     ]
    }
   ],
   "source": [
    "# The duckdb.sql() function is used to run SQL queries\n",
    "import duckdb\n",
    "duckdb.sql(\"SELECT 42\").show()"
   ]
  },
  {
   "cell_type": "markdown",
   "metadata": {},
   "source": [
    "Using `duckdb.sql()` or `duckdb.connect()` with no arguments creates an in-memory database. None of the data is persisted."
   ]
  },
  {
   "cell_type": "code",
   "execution_count": 3,
   "metadata": {},
   "outputs": [
    {
     "name": "stdout",
     "output_type": "stream",
     "text": [
      "┌───────┐\n",
      "│   k   │\n",
      "│ int32 │\n",
      "├───────┤\n",
      "│    84 │\n",
      "└───────┘\n",
      "\n"
     ]
    }
   ],
   "source": [
    "# Store queries in Python variables to build queries incrementally\n",
    "r1 = duckdb.sql(\"SELECT 42 AS i\")\n",
    "duckdb.sql(\"SELECT i * 2 AS k FROM r1\").show()"
   ]
  },
  {
   "cell_type": "markdown",
   "metadata": {},
   "source": [
    "Ingest data from files to query the data with SQL. Or just query files directly."
   ]
  },
  {
   "cell_type": "code",
   "execution_count": 5,
   "metadata": {},
   "outputs": [
    {
     "data": {
      "text/plain": [
       "┌───────┬──────────┬────────────────┬────────┐\n",
       "│  id   │ order_id │ payment_method │ amount │\n",
       "│ int64 │  int64   │    varchar     │ int64  │\n",
       "├───────┼──────────┼────────────────┼────────┤\n",
       "│     1 │        1 │ credit_card    │   1000 │\n",
       "│     2 │        2 │ credit_card    │   2000 │\n",
       "│     3 │        3 │ coupon         │    100 │\n",
       "│     4 │        4 │ coupon         │   2500 │\n",
       "│     5 │        5 │ bank_transfer  │   1700 │\n",
       "│     6 │        6 │ credit_card    │    600 │\n",
       "│     7 │        7 │ credit_card    │   1600 │\n",
       "│     8 │        8 │ credit_card    │   2300 │\n",
       "│     9 │        9 │ gift_card      │   2300 │\n",
       "│    10 │        9 │ bank_transfer  │      0 │\n",
       "│     · │        · │      ·         │      · │\n",
       "│     · │        · │      ·         │      · │\n",
       "│     · │        · │      ·         │      · │\n",
       "│   104 │       91 │ credit_card    │   1900 │\n",
       "│   105 │       92 │ bank_transfer  │   1500 │\n",
       "│   106 │       92 │ coupon         │    200 │\n",
       "│   107 │       93 │ gift_card      │   2600 │\n",
       "│   108 │       94 │ coupon         │    700 │\n",
       "│   109 │       95 │ coupon         │   2400 │\n",
       "│   110 │       96 │ gift_card      │   1700 │\n",
       "│   111 │       97 │ bank_transfer  │   1400 │\n",
       "│   112 │       98 │ bank_transfer  │   1000 │\n",
       "│   113 │       99 │ credit_card    │   2400 │\n",
       "├───────┴──────────┴────────────────┴────────┤\n",
       "│ 113 rows (20 shown)              4 columns │\n",
       "└────────────────────────────────────────────┘"
      ]
     },
     "execution_count": 5,
     "metadata": {},
     "output_type": "execute_result"
    }
   ],
   "source": [
    "# Ingest data from files\n",
    "duckdb.read_csv(\"data/raw_customers.csv\")\n",
    "duckdb.read_csv(\"data/raw_orders.csv\")\n",
    "duckdb.read_csv(\"data/raw_payments.csv\")\n",
    "\n",
    "# Read files directly\n",
    "duckdb.sql(\"SELECT * FROM 'data/raw_customers.csv'\")\n",
    "duckdb.sql(\"SELECT * FROM 'data/raw_orders.csv'\")\n",
    "duckdb.sql(\"SELECT * FROM 'data/raw_payments.csv'\")"
   ]
  },
  {
   "cell_type": "markdown",
   "metadata": {},
   "source": [
    "DuckDB works with Pandas dataframes too."
   ]
  },
  {
   "cell_type": "code",
   "execution_count": 9,
   "metadata": {},
   "outputs": [
    {
     "data": {
      "text/plain": [
       "┌───────┐\n",
       "│   a   │\n",
       "│ int64 │\n",
       "├───────┤\n",
       "│    42 │\n",
       "└───────┘"
      ]
     },
     "execution_count": 9,
     "metadata": {},
     "output_type": "execute_result"
    }
   ],
   "source": [
    "import pandas as pd\n",
    "\n",
    "# Create a Pandas dataframe and query it with DuckDB\n",
    "pandas_df = pd.DataFrame({\"a\": [42]})\n",
    "duckdb.sql(\"SELECT * FROM pandas_df\")"
   ]
  },
  {
   "cell_type": "code",
   "execution_count": 13,
   "metadata": {},
   "outputs": [
    {
     "data": {
      "text/html": [
       "<div>\n",
       "<style scoped>\n",
       "    .dataframe tbody tr th:only-of-type {\n",
       "        vertical-align: middle;\n",
       "    }\n",
       "\n",
       "    .dataframe tbody tr th {\n",
       "        vertical-align: top;\n",
       "    }\n",
       "\n",
       "    .dataframe thead th {\n",
       "        text-align: right;\n",
       "    }\n",
       "</style>\n",
       "<table border=\"1\" class=\"dataframe\">\n",
       "  <thead>\n",
       "    <tr style=\"text-align: right;\">\n",
       "      <th></th>\n",
       "      <th>42</th>\n",
       "    </tr>\n",
       "  </thead>\n",
       "  <tbody>\n",
       "    <tr>\n",
       "      <th>0</th>\n",
       "      <td>42</td>\n",
       "    </tr>\n",
       "  </tbody>\n",
       "</table>\n",
       "</div>"
      ],
      "text/plain": [
       "   42\n",
       "0  42"
      ]
     },
     "execution_count": 13,
     "metadata": {},
     "output_type": "execute_result"
    }
   ],
   "source": [
    "# Or create a Pandas dataframe using DuckDB\n",
    "another_df = duckdb.sql(\"SELECT 42\").df()\n",
    "another_df"
   ]
  },
  {
   "cell_type": "markdown",
   "metadata": {},
   "source": [
    "DuckDB can also write data to files."
   ]
  },
  {
   "cell_type": "code",
   "execution_count": 15,
   "metadata": {},
   "outputs": [],
   "source": [
    "duckdb.sql(\"SELECT 42\").write_csv(\"output/out.csv\")\n",
    "duckdb.sql(\"SELECT 42\").write_parquet(\"output/out.parquet\")"
   ]
  },
  {
   "cell_type": "markdown",
   "metadata": {},
   "source": [
    "To create a persistent database use `duckdb.connect([DATABASE_NAME])`."
   ]
  },
  {
   "cell_type": "code",
   "execution_count": 18,
   "metadata": {},
   "outputs": [
    {
     "name": "stdout",
     "output_type": "stream",
     "text": [
      "┌───────┐\n",
      "│   i   │\n",
      "│ int32 │\n",
      "├───────┤\n",
      "│    42 │\n",
      "│    42 │\n",
      "└───────┘\n",
      "\n"
     ]
    }
   ],
   "source": [
    "# Create a connection to a database file\n",
    "con = duckdb.connect(\"file.db\")\n",
    "\n",
    "# Create a table and load data\n",
    "con.sql(\"CREATE TABLE IF NOT EXISTS test (i INTEGER)\")\n",
    "con.sql(\"INSERT INTO test VALUES (42)\")\n",
    "\n",
    "# Query the table\n",
    "con.table(\"test\").show()\n",
    "\n",
    "# Close the connection\n",
    "con.close()"
   ]
  },
  {
   "cell_type": "code",
   "execution_count": null,
   "metadata": {},
   "outputs": [],
   "source": []
  }
 ],
 "metadata": {
  "kernelspec": {
   "display_name": ".venv",
   "language": "python",
   "name": "python3"
  },
  "language_info": {
   "codemirror_mode": {
    "name": "ipython",
    "version": 3
   },
   "file_extension": ".py",
   "mimetype": "text/x-python",
   "name": "python",
   "nbconvert_exporter": "python",
   "pygments_lexer": "ipython3",
   "version": "3.12.2"
  }
 },
 "nbformat": 4,
 "nbformat_minor": 2
}
